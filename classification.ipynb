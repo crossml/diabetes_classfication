{
 "cells": [
  {
   "cell_type": "code",
   "execution_count": 220,
   "id": "6f1c2e24",
   "metadata": {},
   "outputs": [],
   "source": [
    "# import warnings\n",
    "# warnings.filterwarnings(\"ignore\")"
   ]
  },
  {
   "cell_type": "code",
   "execution_count": 221,
   "id": "5fec4576",
   "metadata": {},
   "outputs": [],
   "source": [
    "#importing necessary libraries\n",
    "import pandas as pd\n",
    "import numpy as np\n",
    "import matplotlib.pylab as plt\n",
    "import seaborn as sns\n",
    "from sklearn.preprocessing import LabelEncoder\n",
    "from sklearn.metrics import classification_report, confusion_matrix,accuracy_score,f1_score"
   ]
  },
  {
   "cell_type": "code",
   "execution_count": 222,
   "id": "65d592d1",
   "metadata": {},
   "outputs": [
    {
     "data": {
      "text/html": [
       "<div>\n",
       "<style scoped>\n",
       "    .dataframe tbody tr th:only-of-type {\n",
       "        vertical-align: middle;\n",
       "    }\n",
       "\n",
       "    .dataframe tbody tr th {\n",
       "        vertical-align: top;\n",
       "    }\n",
       "\n",
       "    .dataframe thead th {\n",
       "        text-align: right;\n",
       "    }\n",
       "</style>\n",
       "<table border=\"1\" class=\"dataframe\">\n",
       "  <thead>\n",
       "    <tr style=\"text-align: right;\">\n",
       "      <th></th>\n",
       "      <th>Pregnancies</th>\n",
       "      <th>Glucose</th>\n",
       "      <th>BloodPressure</th>\n",
       "      <th>SkinThickness</th>\n",
       "      <th>Insulin</th>\n",
       "      <th>BMI</th>\n",
       "      <th>DiabetesPedigreeFunction</th>\n",
       "      <th>Age</th>\n",
       "      <th>Outcome</th>\n",
       "    </tr>\n",
       "  </thead>\n",
       "  <tbody>\n",
       "    <tr>\n",
       "      <th>0</th>\n",
       "      <td>6.0</td>\n",
       "      <td>148.0</td>\n",
       "      <td>72.0</td>\n",
       "      <td>35.0</td>\n",
       "      <td>0.0</td>\n",
       "      <td>33.6</td>\n",
       "      <td>0.627</td>\n",
       "      <td>50.0</td>\n",
       "      <td>1</td>\n",
       "    </tr>\n",
       "    <tr>\n",
       "      <th>1</th>\n",
       "      <td>1.0</td>\n",
       "      <td>85.0</td>\n",
       "      <td>66.0</td>\n",
       "      <td>29.0</td>\n",
       "      <td>0.0</td>\n",
       "      <td>26.6</td>\n",
       "      <td>NaN</td>\n",
       "      <td>31.0</td>\n",
       "      <td>0</td>\n",
       "    </tr>\n",
       "    <tr>\n",
       "      <th>2</th>\n",
       "      <td>8.0</td>\n",
       "      <td>183.0</td>\n",
       "      <td>64.0</td>\n",
       "      <td>0.0</td>\n",
       "      <td>0.0</td>\n",
       "      <td>23.3</td>\n",
       "      <td>NaN</td>\n",
       "      <td>32.0</td>\n",
       "      <td>1</td>\n",
       "    </tr>\n",
       "    <tr>\n",
       "      <th>3</th>\n",
       "      <td>1.0</td>\n",
       "      <td>89.0</td>\n",
       "      <td>66.0</td>\n",
       "      <td>23.0</td>\n",
       "      <td>94.0</td>\n",
       "      <td>28.1</td>\n",
       "      <td>0.167</td>\n",
       "      <td>21.0</td>\n",
       "      <td>0</td>\n",
       "    </tr>\n",
       "    <tr>\n",
       "      <th>4</th>\n",
       "      <td>0.0</td>\n",
       "      <td>137.0</td>\n",
       "      <td>40.0</td>\n",
       "      <td>35.0</td>\n",
       "      <td>168.0</td>\n",
       "      <td>43.1</td>\n",
       "      <td>2.288</td>\n",
       "      <td>33.0</td>\n",
       "      <td>1</td>\n",
       "    </tr>\n",
       "  </tbody>\n",
       "</table>\n",
       "</div>"
      ],
      "text/plain": [
       "   Pregnancies  Glucose  BloodPressure  SkinThickness  Insulin   BMI  \\\n",
       "0          6.0    148.0           72.0           35.0      0.0  33.6   \n",
       "1          1.0     85.0           66.0           29.0      0.0  26.6   \n",
       "2          8.0    183.0           64.0            0.0      0.0  23.3   \n",
       "3          1.0     89.0           66.0           23.0     94.0  28.1   \n",
       "4          0.0    137.0           40.0           35.0    168.0  43.1   \n",
       "\n",
       "   DiabetesPedigreeFunction   Age  Outcome  \n",
       "0                     0.627  50.0        1  \n",
       "1                       NaN  31.0        0  \n",
       "2                       NaN  32.0        1  \n",
       "3                     0.167  21.0        0  \n",
       "4                     2.288  33.0        1  "
      ]
     },
     "execution_count": 222,
     "metadata": {},
     "output_type": "execute_result"
    }
   ],
   "source": [
    "#reading dataset\n",
    "data=pd.read_csv('/home/crossml/Downloads/data_b.csv')\n",
    "df=data.copy(deep=True)\n",
    "data.head(5)"
   ]
  },
  {
   "cell_type": "code",
   "execution_count": 223,
   "id": "4c5fa242",
   "metadata": {},
   "outputs": [],
   "source": [
    "#replacing 0 with NaN\n",
    "cols = [\"Glucose\",\"BloodPressure\",\"SkinThickness\",\"Insulin\",\"BMI\"]\n",
    "df[cols] = df[cols].replace({'0':np.nan, 0:np.nan})"
   ]
  },
  {
   "cell_type": "code",
   "execution_count": 224,
   "id": "0a812504",
   "metadata": {},
   "outputs": [],
   "source": [
    "#replacing missing values\n",
    "df1=df.copy(deep=True)\n",
    "for column in df1[['BloodPressure', 'BMI']]:\n",
    " df1[column]=df1[column].fillna(df1[column].mean())\n",
    "for column in df1[['Pregnancies','Glucose','DiabetesPedigreeFunction','Age']]:\n",
    " df1[column]=df1[column].fillna(df1[column].mean())"
   ]
  },
  {
   "cell_type": "code",
   "execution_count": 225,
   "id": "fa112194",
   "metadata": {},
   "outputs": [],
   "source": [
    "from sklearn.impute import KNNImputer\n",
    "imputer = KNNImputer(n_neighbors=5, weights='distance', metric='nan_euclidean',)\n",
    "imputed_data = imputer.fit_transform(df1) \n",
    "df2 = pd.DataFrame(imputed_data)\n",
    "df2.columns = df1.columns"
   ]
  },
  {
   "cell_type": "code",
   "execution_count": 226,
   "id": "88f75482",
   "metadata": {},
   "outputs": [
    {
     "data": {
      "text/html": [
       "<div>\n",
       "<style scoped>\n",
       "    .dataframe tbody tr th:only-of-type {\n",
       "        vertical-align: middle;\n",
       "    }\n",
       "\n",
       "    .dataframe tbody tr th {\n",
       "        vertical-align: top;\n",
       "    }\n",
       "\n",
       "    .dataframe thead th {\n",
       "        text-align: right;\n",
       "    }\n",
       "</style>\n",
       "<table border=\"1\" class=\"dataframe\">\n",
       "  <thead>\n",
       "    <tr style=\"text-align: right;\">\n",
       "      <th></th>\n",
       "      <th>Feature</th>\n",
       "      <th>No.of Outliers</th>\n",
       "      <th>Handled?</th>\n",
       "    </tr>\n",
       "  </thead>\n",
       "  <tbody>\n",
       "    <tr>\n",
       "      <th>0</th>\n",
       "      <td>Pregnancies</td>\n",
       "      <td>4</td>\n",
       "      <td>True</td>\n",
       "    </tr>\n",
       "    <tr>\n",
       "      <th>1</th>\n",
       "      <td>DiabetesPedigreeFunction</td>\n",
       "      <td>35</td>\n",
       "      <td>True</td>\n",
       "    </tr>\n",
       "    <tr>\n",
       "      <th>2</th>\n",
       "      <td>Age</td>\n",
       "      <td>9</td>\n",
       "      <td>True</td>\n",
       "    </tr>\n",
       "    <tr>\n",
       "      <th>3</th>\n",
       "      <td>BloodPressure</td>\n",
       "      <td>13</td>\n",
       "      <td>True</td>\n",
       "    </tr>\n",
       "    <tr>\n",
       "      <th>4</th>\n",
       "      <td>SkinThickness</td>\n",
       "      <td>5</td>\n",
       "      <td>True</td>\n",
       "    </tr>\n",
       "    <tr>\n",
       "      <th>5</th>\n",
       "      <td>Insulin</td>\n",
       "      <td>33</td>\n",
       "      <td>True</td>\n",
       "    </tr>\n",
       "    <tr>\n",
       "      <th>6</th>\n",
       "      <td>BMI</td>\n",
       "      <td>12</td>\n",
       "      <td>True</td>\n",
       "    </tr>\n",
       "    <tr>\n",
       "      <th>7</th>\n",
       "      <td>Glucose</td>\n",
       "      <td>2</td>\n",
       "      <td>True</td>\n",
       "    </tr>\n",
       "  </tbody>\n",
       "</table>\n",
       "</div>"
      ],
      "text/plain": [
       "                    Feature No.of Outliers Handled?\n",
       "0               Pregnancies              4     True\n",
       "1  DiabetesPedigreeFunction             35     True\n",
       "2                       Age              9     True\n",
       "3             BloodPressure             13     True\n",
       "4             SkinThickness              5     True\n",
       "5                   Insulin             33     True\n",
       "6                       BMI             12     True\n",
       "7                   Glucose              2     True"
      ]
     },
     "execution_count": 226,
     "metadata": {},
     "output_type": "execute_result"
    }
   ],
   "source": [
    "#handling the outliers\n",
    "def detect_outliers(df2):\n",
    "    outliers= pd.DataFrame(columns=[\"Feature\",\"No.of Outliers\",\"Handled?\"])\n",
    "    for col in list(set(df2.select_dtypes(include=np.number).columns)-{'Outcome'}):\n",
    "        q1 = df2[col].quantile(0.25)\n",
    "        q3 = df2[col].quantile(0.75)\n",
    "        iqr = q3 - q1\n",
    "        low = q1 - (1.5*iqr)\n",
    "        high = q3 + (1.5*iqr)\n",
    "        n = df2.loc[(df2[col] < low) | (df2[col] > high)].shape[0]\n",
    "                   \n",
    "        df2.loc[(df2[col] < low),col] = low\n",
    "        df2.loc[(df2[col] > high),col] = high\n",
    " #let's fix them\n",
    "#df[col] = np.where((df[col] > fence_high) | (df[col] > fence_high),df[col].median(),df[col])\n",
    "        outliers = outliers.append({'Feature': col, \"No.of Outliers\": n ,\"Handled?\": df2[col].all() < high},ignore_index=True)\n",
    "    return outliers\n",
    "detect_outliers(df2)"
   ]
  },
  {
   "cell_type": "code",
   "execution_count": 227,
   "id": "42f3b25e",
   "metadata": {},
   "outputs": [
    {
     "name": "stdout",
     "output_type": "stream",
     "text": [
      "[0.09149931 0.25362329 0.08073384 0.08885502 0.1273803  0.13052423\n",
      " 0.09363327 0.13375074]\n"
     ]
    },
    {
     "data": {
      "image/png": "[encoded data removed]",
      "text/plain": [
       "<Figure size 500x500 with 1 Axes>"
      ]
     },
     "metadata": {},
     "output_type": "display_data"
    }
   ],
   "source": [
    "from sklearn.ensemble import ExtraTreesRegressor \n",
    "x=df2.drop(\"Outcome\", axis=1)\n",
    "y = df2.Outcome\n",
    "model.fit(x,y)\n",
    "print(model.feature_importances_)\n",
    "#visualizing by bar graph\n",
    "feature_imp = pd.DataFrame({'Value': model.feature_importances_, 'Feature': x.columns})\n",
    "plt.figure(figsize=(5, 5))\n",
    "sns.barplot(x=\"Value\",y=\"Feature\", data=feature_imp.sort_values(by=\"Value\",ascending=False))\n",
    "plt.title('Features importances')\n",
    "plt.show()"
   ]
  },
  {
   "cell_type": "code",
   "execution_count": 228,
   "id": "e5eecf9f",
   "metadata": {},
   "outputs": [
    {
     "name": "stdout",
     "output_type": "stream",
     "text": [
      "Explained variation per principal component: [0.32522962 0.18029869 0.14600216 0.11959445]\n"
     ]
    }
   ],
   "source": [
    "#scaling is required before applying pca\n",
    "from sklearn.preprocessing import StandardScaler\n",
    "from sklearn.decomposition import PCA\n",
    "scaler = StandardScaler()\n",
    "scaled_data = scaler.fit_transform(x)\n",
    "scaled_data=pd.DataFrame(scaled_data)\n",
    "scaled_data\n",
    "pca = PCA(n_components=4)\n",
    "principalComponents = pca.fit_transform(scaled_data)\n",
    "principalDf = pd.DataFrame(data = principalComponents, columns = ['PC1', 'PC2','PC3','PC4'])\n",
    "print('Explained variation per principal component: {}'.format(pca.explained_variance_ratio_))"
   ]
  },
  {
   "cell_type": "code",
   "execution_count": 229,
   "id": "b03c03bb",
   "metadata": {},
   "outputs": [],
   "source": [
    "from sklearn.model_selection import train_test_split\n",
    "x_train, x_test, y_train, y_test = train_test_split(x, y, test_size=0.2, random_state=0)"
   ]
  },
  {
   "cell_type": "code",
   "execution_count": 230,
   "id": "366f7311",
   "metadata": {},
   "outputs": [],
   "source": [
    "from sklearn.model_selection import GridSearchCV\n",
    "from sklearn.tree import DecisionTreeClassifier\n",
    "from sklearn.ensemble import RandomForestClassifier\n",
    "from sklearn.linear_model import LogisticRegression\n",
    "from sklearn.svm import SVC\n",
    "from sklearn.ensemble import GradientBoostingClassifier"
   ]
  },
  {
   "cell_type": "code",
   "execution_count": 231,
   "id": "05695d2f",
   "metadata": {},
   "outputs": [],
   "source": [
    "#evaluating the decision tree and random forest model for different values of parameters\n",
    "model_params={\n",
    "    \"decision_tree\":{\n",
    "        'model':DecisionTreeClassifier(random_state=0),\n",
    "        'params':{\n",
    "              'max_features': ['auto', 'sqrt', 'log2'],\n",
    "              'max_depth':[3,4,5,6],\n",
    "              'criterion':['gini', 'entropy', 'log_loss']\n",
    "        }\n",
    "    },\n",
    "     \"random_forest\":{\n",
    "        'model': RandomForestClassifier(),\n",
    "        'params':{\n",
    "            'n_estimators': [10,50,100], \n",
    "            'max_features': ['auto', 'sqrt', 'log2'],\n",
    "            'max_depth':[3,4,5,6],\n",
    "            'criterion':['gini', 'entropy', 'log_loss']\n",
    "              \n",
    "  \n",
    "        }\n",
    "    }\n",
    "}\n"
   ]
  },
  {
   "cell_type": "code",
   "execution_count": 232,
   "id": "b0cc9537",
   "metadata": {
    "scrolled": true
   },
   "outputs": [
    {
     "data": {
      "text/html": [
       "<div>\n",
       "<style scoped>\n",
       "    .dataframe tbody tr th:only-of-type {\n",
       "        vertical-align: middle;\n",
       "    }\n",
       "\n",
       "    .dataframe tbody tr th {\n",
       "        vertical-align: top;\n",
       "    }\n",
       "\n",
       "    .dataframe thead th {\n",
       "        text-align: right;\n",
       "    }\n",
       "</style>\n",
       "<table border=\"1\" class=\"dataframe\">\n",
       "  <thead>\n",
       "    <tr style=\"text-align: right;\">\n",
       "      <th></th>\n",
       "      <th>model</th>\n",
       "      <th>best score</th>\n",
       "      <th>best params</th>\n",
       "    </tr>\n",
       "  </thead>\n",
       "  <tbody>\n",
       "    <tr>\n",
       "      <th>1</th>\n",
       "      <td>random_forest</td>\n",
       "      <td>0.762282</td>\n",
       "      <td>{'criterion': 'gini', 'max_depth': 4, 'max_features': 'log2', 'n_estimators': 100}</td>\n",
       "    </tr>\n",
       "    <tr>\n",
       "      <th>0</th>\n",
       "      <td>decision_tree</td>\n",
       "      <td>0.732920</td>\n",
       "      <td>{'criterion': 'gini', 'max_depth': 3, 'max_features': 'log2'}</td>\n",
       "    </tr>\n",
       "  </tbody>\n",
       "</table>\n",
       "</div>"
      ],
      "text/plain": [
       "           model  best score  \\\n",
       "1  random_forest    0.762282   \n",
       "0  decision_tree    0.732920   \n",
       "\n",
       "                                                                          best params  \n",
       "1  {'criterion': 'gini', 'max_depth': 4, 'max_features': 'log2', 'n_estimators': 100}  \n",
       "0                       {'criterion': 'gini', 'max_depth': 3, 'max_features': 'log2'}  "
      ]
     },
     "execution_count": 232,
     "metadata": {},
     "output_type": "execute_result"
    }
   ],
   "source": [
    "# try each model with the scaled data\n",
    "scores_scaled = []\n",
    "for mn,mp in model_params.items():\n",
    "    clf = GridSearchCV(mp['model'],mp['params'],cv=5,return_train_score=False)\n",
    "    clf.fit(x_train,y_train)\n",
    "    scores_scaled.append({\n",
    "        'model' : mn,\n",
    "        'best score': clf.best_score_,\n",
    "        \"best params\": clf.best_params_\n",
    "    })\n",
    "    \n",
    "df3 = pd.DataFrame(scores_scaled, columns=[\"model\",\"best score\",'best params'])\n",
    "df3.sort_values(by=['best score'], ascending=False)\n"
   ]
  },
  {
   "cell_type": "code",
   "execution_count": 233,
   "id": "a0392e96",
   "metadata": {},
   "outputs": [],
   "source": [
    "# Splitting the dataset into the Training set and Test set for scaled data\n",
    "from sklearn.model_selection import train_test_split\n",
    "x_train1, x_test1, y_train1, y_test1 = train_test_split(scaled_data, y, test_size=0.2, random_state=0)"
   ]
  },
  {
   "cell_type": "code",
   "execution_count": 234,
   "id": "06745f3a",
   "metadata": {},
   "outputs": [],
   "source": [
    "#evaluating svm,logistic regression and gradient boosting for scaled data\n",
    "model_params2={\n",
    " \"svm\":{\n",
    " 'model': SVC(random_state=0),\n",
    " 'params':{\n",
    " 'C': [0.1, 1, 10, 100, 1000], \n",
    " 'gamma': [1, 0.1, 0.01, 0.001, 0.0001],\n",
    " 'kernel': ['rbf','linear']\n",
    " }\n",
    " },\n",
    " 'logistic_regression':{\n",
    " 'model': LogisticRegression(),\n",
    " 'params':{'penalty':[ 'l2', 'elasticnet', None], \n",
    " 'solver':['newton-cg', 'lbfgs', 'liblinear', 'sag', 'saga'],\n",
    " 'C': [1,5,10]\n",
    " }\n",
    " },\n",
    "\"gradient_boosting\":{\n",
    " 'model': GradientBoostingClassifier(),\n",
    " 'params':{\n",
    " 'max_depth':[3,4,5],\n",
    " 'n_estimators':[5,10,50,100],\n",
    " 'criterion':['friedman_mse', 'squared_error', 'mse']\n",
    " }\n",
    " \n",
    " }\n",
    "}"
   ]
  },
  {
   "cell_type": "code",
   "execution_count": 235,
   "id": "b9b6806b",
   "metadata": {},
   "outputs": [],
   "source": [
    "scores_scaled2 = []\n",
    "for mn,mp in model_params2.items():\n",
    " clf2 = GridSearchCV(mp['model'],mp['params'],cv=5,return_train_score=False)\n",
    " clf2.fit(x_train1,y_train1)\n",
    " scores_scaled2.append({\n",
    " 'model' : mn,\n",
    " 'best score': clf2.best_score_,\n",
    " \"best params\": clf2.best_params_\n",
    " })\n",
    " \n",
    "df4 = pd.DataFrame(scores_scaled2, columns=[\"model\",\"best score\",'best params'])\n"
   ]
  },
  {
   "cell_type": "code",
   "execution_count": 236,
   "id": "58c8c38b",
   "metadata": {},
   "outputs": [
    {
     "data": {
      "text/html": [
       "<div>\n",
       "<style scoped>\n",
       "    .dataframe tbody tr th:only-of-type {\n",
       "        vertical-align: middle;\n",
       "    }\n",
       "\n",
       "    .dataframe tbody tr th {\n",
       "        vertical-align: top;\n",
       "    }\n",
       "\n",
       "    .dataframe thead th {\n",
       "        text-align: right;\n",
       "    }\n",
       "</style>\n",
       "<table border=\"1\" class=\"dataframe\">\n",
       "  <thead>\n",
       "    <tr style=\"text-align: right;\">\n",
       "      <th></th>\n",
       "      <th>model</th>\n",
       "      <th>best score</th>\n",
       "      <th>best params</th>\n",
       "    </tr>\n",
       "  </thead>\n",
       "  <tbody>\n",
       "    <tr>\n",
       "      <th>1</th>\n",
       "      <td>logistic_regression</td>\n",
       "      <td>0.760602</td>\n",
       "      <td>{'C': 1, 'penalty': 'l2', 'solver': 'liblinear'}</td>\n",
       "    </tr>\n",
       "    <tr>\n",
       "      <th>0</th>\n",
       "      <td>svm</td>\n",
       "      <td>0.757337</td>\n",
       "      <td>{'C': 10, 'gamma': 1, 'kernel': 'linear'}</td>\n",
       "    </tr>\n",
       "    <tr>\n",
       "      <th>2</th>\n",
       "      <td>gradient_boosting</td>\n",
       "      <td>0.742663</td>\n",
       "      <td>{'criterion': 'squared_error', 'max_depth': 3, 'n_estimators': 100}</td>\n",
       "    </tr>\n",
       "  </tbody>\n",
       "</table>\n",
       "</div>"
      ],
      "text/plain": [
       "                 model  best score  \\\n",
       "1  logistic_regression    0.760602   \n",
       "0                  svm    0.757337   \n",
       "2    gradient_boosting    0.742663   \n",
       "\n",
       "                                                           best params  \n",
       "1                     {'C': 1, 'penalty': 'l2', 'solver': 'liblinear'}  \n",
       "0                            {'C': 10, 'gamma': 1, 'kernel': 'linear'}  \n",
       "2  {'criterion': 'squared_error', 'max_depth': 3, 'n_estimators': 100}  "
      ]
     },
     "execution_count": 236,
     "metadata": {},
     "output_type": "execute_result"
    }
   ],
   "source": [
    "df4.sort_values(by=['best score'], ascending=False)"
   ]
  },
  {
   "cell_type": "code",
   "execution_count": 240,
   "id": "72fef95d",
   "metadata": {},
   "outputs": [
    {
     "name": "stdout",
     "output_type": "stream",
     "text": [
      "Accuracy of model for testing data is  0.7857142857142857\n"
     ]
    }
   ],
   "source": [
    "#since random forest classifier gave best accuracy, so applying that\n",
    "model_final = RandomForestClassifier(criterion= 'gini',max_depth= 4,max_features='log2',n_estimators=100)\n",
    "model_final.fit(x_train, y_train)\n",
    "y_pred1 = model_final.predict(x_test)\n",
    "print('Accuracy of model for testing data is ',accuracy_score(y_test,y_pred1))\n"
   ]
  },
  {
   "cell_type": "code",
   "execution_count": 241,
   "id": "d3ce9e05",
   "metadata": {},
   "outputs": [
    {
     "data": {
      "image/png": "[encoded data removed]",
      "text/plain": [
       "<Figure size 640x480 with 2 Axes>"
      ]
     },
     "metadata": {},
     "output_type": "display_data"
    }
   ],
   "source": [
    "#heatmap for confusion matrix\n",
    "sns.heatmap(pd.DataFrame(confusion_matrix(y_test,y_pred1)),annot=True)\n",
    "plt.show()"
   ]
  },
  {
   "cell_type": "code",
   "execution_count": 244,
   "id": "4e93353f",
   "metadata": {},
   "outputs": [
    {
     "name": "stdout",
     "output_type": "stream",
     "text": [
      "Average accuracy of the final model is  [0.7565826330532213]\n"
     ]
    }
   ],
   "source": [
    "#checking for avg accuracy of the model\n",
    "from sklearn.model_selection import cross_val_score\n",
    "score = cross_val_score(model_final, x, y, cv=5)\n",
    "accuracy_rate = []\n",
    "accuracy_rate.append(score.mean())\n",
    "print('Average accuracy of the final model is ',accuracy_rate)\n"
   ]
  },
  {
   "cell_type": "code",
   "execution_count": null,
   "id": "4b073c2e",
   "metadata": {},
   "outputs": [],
   "source": []
  },
  {
   "cell_type": "code",
   "execution_count": null,
   "id": "62fb59b9",
   "metadata": {},
   "outputs": [],
   "source": []
  },
  {
   "cell_type": "code",
   "execution_count": null,
   "id": "6c456e0e",
   "metadata": {},
   "outputs": [],
   "source": []
  },
  {
   "cell_type": "code",
   "execution_count": null,
   "id": "b34b1009",
   "metadata": {},
   "outputs": [],
   "source": []
  },
  {
   "cell_type": "code",
   "execution_count": null,
   "id": "0ec719b2",
   "metadata": {},
   "outputs": [],
   "source": []
  },
  {
   "cell_type": "code",
   "execution_count": null,
   "id": "d95270d7",
   "metadata": {},
   "outputs": [],
   "source": []
  },
  {
   "cell_type": "code",
   "execution_count": null,
   "id": "2e765e61",
   "metadata": {},
   "outputs": [],
   "source": []
  },
  {
   "cell_type": "code",
   "execution_count": null,
   "id": "f55a8de8",
   "metadata": {},
   "outputs": [],
   "source": []
  },
  {
   "cell_type": "code",
   "execution_count": null,
   "id": "651d0034",
   "metadata": {},
   "outputs": [],
   "source": []
  },
  {
   "cell_type": "code",
   "execution_count": null,
   "id": "88cfaec3",
   "metadata": {},
   "outputs": [],
   "source": []
  },
  {
   "cell_type": "code",
   "execution_count": null,
   "id": "2731200e",
   "metadata": {},
   "outputs": [],
   "source": []
  },
  {
   "cell_type": "code",
   "execution_count": null,
   "id": "91751f24",
   "metadata": {},
   "outputs": [],
   "source": []
  },
  {
   "cell_type": "code",
   "execution_count": null,
   "id": "61799951",
   "metadata": {},
   "outputs": [],
   "source": []
  },
  {
   "cell_type": "code",
   "execution_count": null,
   "id": "8de121f6",
   "metadata": {},
   "outputs": [],
   "source": []
  },
  {
   "cell_type": "code",
   "execution_count": null,
   "id": "d22c1cfd",
   "metadata": {},
   "outputs": [],
   "source": []
  },
  {
   "cell_type": "code",
   "execution_count": null,
   "id": "d0567974",
   "metadata": {},
   "outputs": [],
   "source": []
  },
  {
   "cell_type": "code",
   "execution_count": null,
   "id": "a28579d8",
   "metadata": {},
   "outputs": [],
   "source": []
  },
  {
   "cell_type": "code",
   "execution_count": null,
   "id": "485d4691",
   "metadata": {},
   "outputs": [],
   "source": []
  },
  {
   "cell_type": "code",
   "execution_count": null,
   "id": "af8bba8d",
   "metadata": {},
   "outputs": [],
   "source": []
  }
 ],
 "metadata": {
  "kernelspec": {
   "display_name": "Python 3 (ipykernel)",
   "language": "python",
   "name": "python3"
  },
  "language_info": {
   "codemirror_mode": {
    "name": "ipython",
    "version": 3
   },
   "file_extension": ".py",
   "mimetype": "text/x-python",
   "name": "python",
   "nbconvert_exporter": "python",
   "pygments_lexer": "ipython3",
   "version": "3.8.10"
  }
 },
 "nbformat": 4,
 "nbformat_minor": 5
}
